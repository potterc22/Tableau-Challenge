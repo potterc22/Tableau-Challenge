{
 "metadata": {
  "language_info": {
   "codemirror_mode": {
    "name": "ipython",
    "version": 3
   },
   "file_extension": ".py",
   "mimetype": "text/x-python",
   "name": "python",
   "nbconvert_exporter": "python",
   "pygments_lexer": "ipython3",
   "version": "3.6.10-final"
  },
  "orig_nbformat": 2,
  "kernelspec": {
   "name": "python3",
   "display_name": "Python 3.6.10 64-bit ('bcs': conda)",
   "metadata": {
    "interpreter": {
     "hash": "8ef29466f74bf088a378c30282cf9d03bb14ca16f25d014dbaac1c7b0c54b402"
    }
   }
  }
 },
 "nbformat": 4,
 "nbformat_minor": 2,
 "cells": [
  {
   "cell_type": "code",
   "execution_count": 1,
   "metadata": {},
   "outputs": [],
   "source": [
    "import pandas as pd\n",
    "import datetime\n",
    "from datetime import date, time\n",
    "from math import sin, cos, sqrt, atan2, radians"
   ]
  },
  {
   "cell_type": "code",
   "execution_count": 2,
   "metadata": {},
   "outputs": [],
   "source": [
    "bike_19_csv = \"Resources/201906-citibike-tripdata.csv\"\n",
    "bike_20_csv = \"Resources/202006-citibike-tripdata.csv\""
   ]
  },
  {
   "cell_type": "code",
   "execution_count": 3,
   "metadata": {},
   "outputs": [
    {
     "output_type": "execute_result",
     "data": {
      "text/plain": [
       "   tripduration                 starttime                  stoptime  \\\n",
       "0           330  2019-06-01 00:00:01.5000  2019-06-01 00:05:31.7600   \n",
       "1           830  2019-06-01 00:00:04.2400  2019-06-01 00:13:55.1470   \n",
       "2           380  2019-06-01 00:00:06.0190  2019-06-01 00:06:26.7790   \n",
       "3          1155  2019-06-01 00:00:06.7760  2019-06-01 00:19:22.5380   \n",
       "4          1055  2019-06-01 00:00:07.5200  2019-06-01 00:17:42.5580   \n",
       "\n",
       "   start station id       start station name  start station latitude  \\\n",
       "0              3602           31 Ave & 34 St               40.763154   \n",
       "1              3054  Greene Ave & Throop Ave               40.689493   \n",
       "2               229           Great Jones St               40.727434   \n",
       "3              3771  McKibbin St & Bogart St               40.706237   \n",
       "4               441          E 52 St & 2 Ave               40.756014   \n",
       "\n",
       "   start station longitude  end station id       end station name  \\\n",
       "0               -73.920827            3570         35 Ave & 37 St   \n",
       "1               -73.942061            3781  Greene Av & Myrtle Av   \n",
       "2               -73.993790             326        E 11 St & 1 Ave   \n",
       "3               -73.933871            3016      Kent Ave & N 7 St   \n",
       "4               -73.967416            3159     W 67 St & Broadway   \n",
       "\n",
       "   end station latitude  end station longitude  bikeid    usertype  \\\n",
       "0             40.755733             -73.923661   20348  Subscriber   \n",
       "1             40.698568             -73.918877   34007  Subscriber   \n",
       "2             40.729538             -73.984267   20587  Subscriber   \n",
       "3             40.720368             -73.961651   33762  Subscriber   \n",
       "4             40.774925             -73.982666   31290  Subscriber   \n",
       "\n",
       "   birth year  gender  \n",
       "0        1992       1  \n",
       "1        1987       2  \n",
       "2        1990       2  \n",
       "3        1987       1  \n",
       "4        1973       1  "
      ],
      "text/html": "<div>\n<style scoped>\n    .dataframe tbody tr th:only-of-type {\n        vertical-align: middle;\n    }\n\n    .dataframe tbody tr th {\n        vertical-align: top;\n    }\n\n    .dataframe thead th {\n        text-align: right;\n    }\n</style>\n<table border=\"1\" class=\"dataframe\">\n  <thead>\n    <tr style=\"text-align: right;\">\n      <th></th>\n      <th>tripduration</th>\n      <th>starttime</th>\n      <th>stoptime</th>\n      <th>start station id</th>\n      <th>start station name</th>\n      <th>start station latitude</th>\n      <th>start station longitude</th>\n      <th>end station id</th>\n      <th>end station name</th>\n      <th>end station latitude</th>\n      <th>end station longitude</th>\n      <th>bikeid</th>\n      <th>usertype</th>\n      <th>birth year</th>\n      <th>gender</th>\n    </tr>\n  </thead>\n  <tbody>\n    <tr>\n      <th>0</th>\n      <td>330</td>\n      <td>2019-06-01 00:00:01.5000</td>\n      <td>2019-06-01 00:05:31.7600</td>\n      <td>3602</td>\n      <td>31 Ave &amp; 34 St</td>\n      <td>40.763154</td>\n      <td>-73.920827</td>\n      <td>3570</td>\n      <td>35 Ave &amp; 37 St</td>\n      <td>40.755733</td>\n      <td>-73.923661</td>\n      <td>20348</td>\n      <td>Subscriber</td>\n      <td>1992</td>\n      <td>1</td>\n    </tr>\n    <tr>\n      <th>1</th>\n      <td>830</td>\n      <td>2019-06-01 00:00:04.2400</td>\n      <td>2019-06-01 00:13:55.1470</td>\n      <td>3054</td>\n      <td>Greene Ave &amp; Throop Ave</td>\n      <td>40.689493</td>\n      <td>-73.942061</td>\n      <td>3781</td>\n      <td>Greene Av &amp; Myrtle Av</td>\n      <td>40.698568</td>\n      <td>-73.918877</td>\n      <td>34007</td>\n      <td>Subscriber</td>\n      <td>1987</td>\n      <td>2</td>\n    </tr>\n    <tr>\n      <th>2</th>\n      <td>380</td>\n      <td>2019-06-01 00:00:06.0190</td>\n      <td>2019-06-01 00:06:26.7790</td>\n      <td>229</td>\n      <td>Great Jones St</td>\n      <td>40.727434</td>\n      <td>-73.993790</td>\n      <td>326</td>\n      <td>E 11 St &amp; 1 Ave</td>\n      <td>40.729538</td>\n      <td>-73.984267</td>\n      <td>20587</td>\n      <td>Subscriber</td>\n      <td>1990</td>\n      <td>2</td>\n    </tr>\n    <tr>\n      <th>3</th>\n      <td>1155</td>\n      <td>2019-06-01 00:00:06.7760</td>\n      <td>2019-06-01 00:19:22.5380</td>\n      <td>3771</td>\n      <td>McKibbin St &amp; Bogart St</td>\n      <td>40.706237</td>\n      <td>-73.933871</td>\n      <td>3016</td>\n      <td>Kent Ave &amp; N 7 St</td>\n      <td>40.720368</td>\n      <td>-73.961651</td>\n      <td>33762</td>\n      <td>Subscriber</td>\n      <td>1987</td>\n      <td>1</td>\n    </tr>\n    <tr>\n      <th>4</th>\n      <td>1055</td>\n      <td>2019-06-01 00:00:07.5200</td>\n      <td>2019-06-01 00:17:42.5580</td>\n      <td>441</td>\n      <td>E 52 St &amp; 2 Ave</td>\n      <td>40.756014</td>\n      <td>-73.967416</td>\n      <td>3159</td>\n      <td>W 67 St &amp; Broadway</td>\n      <td>40.774925</td>\n      <td>-73.982666</td>\n      <td>31290</td>\n      <td>Subscriber</td>\n      <td>1973</td>\n      <td>1</td>\n    </tr>\n  </tbody>\n</table>\n</div>"
     },
     "metadata": {},
     "execution_count": 3
    }
   ],
   "source": [
    "bike_19_df = pd.read_csv(bike_19_csv)\n",
    "bike_19_df.head()"
   ]
  },
  {
   "cell_type": "code",
   "execution_count": 4,
   "metadata": {},
   "outputs": [
    {
     "output_type": "execute_result",
     "data": {
      "text/plain": [
       "   tripduration                 starttime                  stoptime  \\\n",
       "0          1062  2020-06-01 00:00:03.3720  2020-06-01 00:17:46.2080   \n",
       "1          3810  2020-06-01 00:00:03.5530  2020-06-01 01:03:33.9360   \n",
       "2          1017  2020-06-01 00:00:09.6140  2020-06-01 00:17:06.8330   \n",
       "3           226  2020-06-01 00:00:12.1780  2020-06-01 00:03:58.8640   \n",
       "4          1437  2020-06-01 00:00:21.2550  2020-06-01 00:24:18.9650   \n",
       "\n",
       "   start station id        start station name  start station latitude  \\\n",
       "0              3419       Douglass St & 4 Ave               40.679279   \n",
       "1               366  Clinton Ave & Myrtle Ave               40.693261   \n",
       "2               389       Broadway & Berry St               40.710446   \n",
       "3              3255           8 Ave & W 31 St               40.750585   \n",
       "4               367   E 53 St & Lexington Ave               40.758281   \n",
       "\n",
       "   start station longitude  end station id             end station name  \\\n",
       "0               -73.981540            3419          Douglass St & 4 Ave   \n",
       "1               -73.968896             336  Sullivan St & Washington Sq   \n",
       "2               -73.965251            3562   Classon Ave & St Marks Ave   \n",
       "3               -73.994685             505              6 Ave & W 33 St   \n",
       "4               -73.970694             497           E 17 St & Broadway   \n",
       "\n",
       "   end station latitude  end station longitude  bikeid    usertype  \\\n",
       "0             40.679279             -73.981540   39852    Customer   \n",
       "1             40.730477             -73.999061   37558  Subscriber   \n",
       "2             40.676520             -73.959608   37512    Customer   \n",
       "3             40.749013             -73.988484   39674    Customer   \n",
       "4             40.737050             -73.990093   21093    Customer   \n",
       "\n",
       "   birth year  gender  \n",
       "0        1997       2  \n",
       "1        1969       0  \n",
       "2        1988       2  \n",
       "3        1969       0  \n",
       "4        1997       2  "
      ],
      "text/html": "<div>\n<style scoped>\n    .dataframe tbody tr th:only-of-type {\n        vertical-align: middle;\n    }\n\n    .dataframe tbody tr th {\n        vertical-align: top;\n    }\n\n    .dataframe thead th {\n        text-align: right;\n    }\n</style>\n<table border=\"1\" class=\"dataframe\">\n  <thead>\n    <tr style=\"text-align: right;\">\n      <th></th>\n      <th>tripduration</th>\n      <th>starttime</th>\n      <th>stoptime</th>\n      <th>start station id</th>\n      <th>start station name</th>\n      <th>start station latitude</th>\n      <th>start station longitude</th>\n      <th>end station id</th>\n      <th>end station name</th>\n      <th>end station latitude</th>\n      <th>end station longitude</th>\n      <th>bikeid</th>\n      <th>usertype</th>\n      <th>birth year</th>\n      <th>gender</th>\n    </tr>\n  </thead>\n  <tbody>\n    <tr>\n      <th>0</th>\n      <td>1062</td>\n      <td>2020-06-01 00:00:03.3720</td>\n      <td>2020-06-01 00:17:46.2080</td>\n      <td>3419</td>\n      <td>Douglass St &amp; 4 Ave</td>\n      <td>40.679279</td>\n      <td>-73.981540</td>\n      <td>3419</td>\n      <td>Douglass St &amp; 4 Ave</td>\n      <td>40.679279</td>\n      <td>-73.981540</td>\n      <td>39852</td>\n      <td>Customer</td>\n      <td>1997</td>\n      <td>2</td>\n    </tr>\n    <tr>\n      <th>1</th>\n      <td>3810</td>\n      <td>2020-06-01 00:00:03.5530</td>\n      <td>2020-06-01 01:03:33.9360</td>\n      <td>366</td>\n      <td>Clinton Ave &amp; Myrtle Ave</td>\n      <td>40.693261</td>\n      <td>-73.968896</td>\n      <td>336</td>\n      <td>Sullivan St &amp; Washington Sq</td>\n      <td>40.730477</td>\n      <td>-73.999061</td>\n      <td>37558</td>\n      <td>Subscriber</td>\n      <td>1969</td>\n      <td>0</td>\n    </tr>\n    <tr>\n      <th>2</th>\n      <td>1017</td>\n      <td>2020-06-01 00:00:09.6140</td>\n      <td>2020-06-01 00:17:06.8330</td>\n      <td>389</td>\n      <td>Broadway &amp; Berry St</td>\n      <td>40.710446</td>\n      <td>-73.965251</td>\n      <td>3562</td>\n      <td>Classon Ave &amp; St Marks Ave</td>\n      <td>40.676520</td>\n      <td>-73.959608</td>\n      <td>37512</td>\n      <td>Customer</td>\n      <td>1988</td>\n      <td>2</td>\n    </tr>\n    <tr>\n      <th>3</th>\n      <td>226</td>\n      <td>2020-06-01 00:00:12.1780</td>\n      <td>2020-06-01 00:03:58.8640</td>\n      <td>3255</td>\n      <td>8 Ave &amp; W 31 St</td>\n      <td>40.750585</td>\n      <td>-73.994685</td>\n      <td>505</td>\n      <td>6 Ave &amp; W 33 St</td>\n      <td>40.749013</td>\n      <td>-73.988484</td>\n      <td>39674</td>\n      <td>Customer</td>\n      <td>1969</td>\n      <td>0</td>\n    </tr>\n    <tr>\n      <th>4</th>\n      <td>1437</td>\n      <td>2020-06-01 00:00:21.2550</td>\n      <td>2020-06-01 00:24:18.9650</td>\n      <td>367</td>\n      <td>E 53 St &amp; Lexington Ave</td>\n      <td>40.758281</td>\n      <td>-73.970694</td>\n      <td>497</td>\n      <td>E 17 St &amp; Broadway</td>\n      <td>40.737050</td>\n      <td>-73.990093</td>\n      <td>21093</td>\n      <td>Customer</td>\n      <td>1997</td>\n      <td>2</td>\n    </tr>\n  </tbody>\n</table>\n</div>"
     },
     "metadata": {},
     "execution_count": 4
    }
   ],
   "source": [
    "bike_20_df = pd.read_csv(bike_20_csv)\n",
    "bike_20_df.head()"
   ]
  },
  {
   "cell_type": "code",
   "execution_count": 5,
   "metadata": {},
   "outputs": [],
   "source": [
    "# Convert start time strings to datetime values\r\n",
    "bike_19_df['starttime'] = pd.to_datetime(bike_19_df['starttime'])\r\n",
    "\r\n",
    "bike_20_df['starttime'] = pd.to_datetime(bike_20_df['starttime'])"
   ]
  },
  {
   "cell_type": "code",
   "execution_count": 6,
   "metadata": {},
   "outputs": [],
   "source": [
    "# convert start times to separate date and time values\n",
    "bike_19_df['startdate'] = [d.date() for d in bike_19_df['starttime']]\n",
    "bike_19_df['starttime'] = [d.time() for d in bike_19_df['starttime']]\n",
    "\n",
    "bike_20_df['startdate'] = [d.date() for d in bike_20_df['starttime']]\n",
    "bike_20_df['starttime'] = [d.time() for d in bike_20_df['starttime']]"
   ]
  },
  {
   "cell_type": "code",
   "execution_count": 7,
   "metadata": {},
   "outputs": [],
   "source": [
    "# Convert stop time strings to datetime values\n",
    "bike_19_df['stoptime'] = pd.to_datetime(bike_19_df['stoptime'])\n",
    "\n",
    "bike_20_df['stoptime'] = pd.to_datetime(bike_20_df['stoptime'])"
   ]
  },
  {
   "cell_type": "code",
   "execution_count": 8,
   "metadata": {},
   "outputs": [],
   "source": [
    "# convert stop times to separate date and time values\n",
    "bike_19_df['stopdate'] = [d.date() for d in bike_19_df['stoptime']]\n",
    "bike_19_df['stoptime'] = [d.time() for d in bike_19_df['stoptime']]\n",
    "\n",
    "bike_20_df['stopdate'] = [d.date() for d in bike_20_df['stoptime']]\n",
    "bike_20_df['stoptime'] = [d.time() for d in bike_20_df['stoptime']]"
   ]
  },
  {
   "cell_type": "code",
   "execution_count": 9,
   "metadata": {},
   "outputs": [],
   "source": [
    "# Update column order\r\n",
    "bike_19_df = bike_19_df[['tripduration','startdate','starttime','stopdate','stoptime','start station id','start station name','start station latitude','start station longitude','end station id','end station name','end station latitude','end station longitude','bikeid','usertype','gender','birth year']]\r\n",
    "\r\n",
    "bike_20_df = bike_20_df[['tripduration','startdate','starttime','stopdate','stoptime','start station id','start station name','start station latitude','start station longitude','end station id','end station name','end station latitude','end station longitude','bikeid','usertype','gender','birth year']]"
   ]
  },
  {
   "cell_type": "code",
   "execution_count": 10,
   "metadata": {},
   "outputs": [],
   "source": [
    "# Convert tripduration to minutes\n",
    "bike_19_df['tripduration'] = bike_19_df['tripduration'] / 60\n",
    "\n",
    "bike_20_df['tripduration'] = bike_20_df['tripduration'] / 60"
   ]
  },
  {
   "cell_type": "code",
   "execution_count": 11,
   "metadata": {},
   "outputs": [],
   "source": [
    "# drop gender values of 0\n",
    "bike_19_df = bike_19_df.loc[bike_19_df['gender'] > 0, :]\n",
    "\n",
    "bike_20_df = bike_20_df.loc[bike_20_df['gender'] > 0, :]"
   ]
  },
  {
   "cell_type": "code",
   "execution_count": 12,
   "metadata": {},
   "outputs": [],
   "source": [
    "# drop rides with tripduration less than 2 minutes that are returned to the same location, assuming these bikes had something wrong with them\n",
    "bike_19_df = bike_19_df.loc[(bike_19_df['tripduration'] > 2) & (bike_19_df['start station id'] != bike_19_df['end station id']), :]\n",
    "\n",
    "bike_20_df = bike_20_df.loc[(bike_20_df['tripduration'] > 2) & (bike_20_df['start station id'] != bike_20_df['end station id']), :]"
   ]
  },
  {
   "cell_type": "code",
   "execution_count": 13,
   "metadata": {},
   "outputs": [],
   "source": [
    "# drop rides with tripduration greater than 24 hours, assuming these bikes were stolen\n",
    "bike_19_df = bike_19_df.loc[bike_19_df['tripduration'] < 24, :]\n",
    "\n",
    "bike_20_df = bike_20_df.loc[bike_20_df['tripduration'] < 24, :]"
   ]
  },
  {
   "cell_type": "code",
   "execution_count": 14,
   "metadata": {},
   "outputs": [],
   "source": [
    "# convert gender to strings\n",
    "bike_19_df['gender'] = bike_19_df['gender'].replace({1: \"male\", 2: \"female\"})\n",
    "\n",
    "bike_20_df['gender'] = bike_20_df['gender'].replace({1: \"male\", 2: \"female\"})"
   ]
  },
  {
   "cell_type": "code",
   "execution_count": 15,
   "metadata": {},
   "outputs": [],
   "source": [
    "# convert birth year to approximate age\n",
    "bike_19_df['birth year'] = 2019 - bike_19_df['birth year']\n",
    "bike_20_df['birth year'] = 2020 - bike_20_df['birth year']\n",
    "\n",
    "# Rename columns\n",
    "bike_19_df = bike_19_df.rename(columns={'birth year':'approximate age', 'tripduration': 'tripduration (min)'})\n",
    "\n",
    "bike_20_df = bike_20_df.rename(columns={'birth year':'approximate age', 'tripduration': 'tripduration (min)'})"
   ]
  },
  {
   "cell_type": "code",
   "execution_count": 16,
   "metadata": {},
   "outputs": [],
   "source": [
    "# drop rides where user is over the age of 90\n",
    "bike_19_df = bike_19_df.loc[bike_19_df['approximate age'] < 90]\n",
    "\n",
    "bike_20_df = bike_20_df.loc[bike_20_df['approximate age'] < 90]"
   ]
  },
  {
   "cell_type": "code",
   "execution_count": 17,
   "metadata": {},
   "outputs": [],
   "source": [
    "# create bins to separate riders by age\n",
    "bins = [0, 17, 30, 45, 60, 75, 90]\n",
    "labels = ['0-17', '18-30', '31-45', '46-60', '61-75', '76-90']\n",
    "\n",
    "bike_19_df['age group'] = pd.cut(bike_19_df[\"approximate age\"], bins, labels=labels)\n",
    "\n",
    "bike_20_df['age group'] = pd.cut(bike_20_df[\"approximate age\"], bins, labels=labels)"
   ]
  },
  {
   "cell_type": "code",
   "execution_count": 18,
   "metadata": {},
   "outputs": [],
   "source": [
    "# combine start station id and end station id for RideID\n",
    "bike_19_df['RideID'] = bike_19_df['start station id'].map(str) + '_' + bike_19_df['end station id'].map(str)\n",
    "\n",
    "bike_20_df['RideID'] = bike_20_df['start station id'].map(str) + '_' + bike_20_df['end station id'].map(str)"
   ]
  },
  {
   "source": [
    "### Calculate the distance traveled on each ride for 2019"
   ],
   "cell_type": "markdown",
   "metadata": {}
  },
  {
   "cell_type": "code",
   "execution_count": 19,
   "metadata": {},
   "outputs": [],
   "source": [
    "# First, convert degrees to radians\n",
    "start_lat_19 = [radians(lat) for lat in bike_19_df['start station latitude']]\n",
    "start_lon_19 = [radians(lon) for lon in bike_19_df['start station longitude']]\n",
    "end_lat_19 = [radians(lat) for lat in bike_19_df['end station latitude']]\n",
    "end_lon_19 = [radians(lon) for lon in bike_19_df['end station longitude']]\n",
    "\n",
    "# Next, convert these lists into series\n",
    "start_lat_19 = pd.Series(start_lat_19)\n",
    "start_lon_19 = pd.Series(start_lon_19)\n",
    "end_lat_19 = pd.Series(end_lat_19)\n",
    "end_lon_19 = pd.Series(end_lon_19)\n",
    "\n",
    "# Calculate the difference between each pair of lat and lon\n",
    "dist_lat_19 = end_lat_19 - start_lat_19\n",
    "dist_lon_19 = end_lon_19 - start_lon_19"
   ]
  },
  {
   "cell_type": "code",
   "execution_count": 20,
   "metadata": {},
   "outputs": [],
   "source": [
    "# approximate radius of earth in km\n",
    "R = 6373.0\n",
    "\n",
    "# create an empty list to store each trips distance\n",
    "distances_19 = []\n",
    "\n",
    "# loop through each pair of lat and lon and append the distance to our list\n",
    "for i in range(0, len(start_lat_19)):\n",
    "    a = sin(dist_lat_19[i] / 2)**2 + cos(start_lat_19[i]) * cos(end_lat_19[i]) * sin(dist_lon_19[i] / 2)**2\n",
    "    c = 2 * atan2(sqrt(a), sqrt(1 - a))\n",
    "\n",
    "    # Calculate distance and convert km to miles\n",
    "    miles = (R * c) * .6214\n",
    "\n",
    "    # Append the miles traveled into our distances list\n",
    "    distances_19.append(miles)\n"
   ]
  },
  {
   "cell_type": "code",
   "execution_count": 21,
   "metadata": {},
   "outputs": [],
   "source": [
    "# Create new column to display the calculated distance in miles\n",
    "bike_19_df['distance (mi)'] = distances_19"
   ]
  },
  {
   "cell_type": "code",
   "execution_count": 22,
   "metadata": {},
   "outputs": [
    {
     "output_type": "execute_result",
     "data": {
      "text/plain": [
       "         tripduration (min)   startdate        starttime    stopdate  \\\n",
       "0                  5.500000  2019-06-01  00:00:01.500000  2019-06-01   \n",
       "1                 13.833333  2019-06-01  00:00:04.240000  2019-06-01   \n",
       "2                  6.333333  2019-06-01  00:00:06.019000  2019-06-01   \n",
       "3                 19.250000  2019-06-01  00:00:06.776000  2019-06-01   \n",
       "4                 17.583333  2019-06-01  00:00:07.520000  2019-06-01   \n",
       "...                     ...         ...              ...         ...   \n",
       "2125365            3.866667  2019-06-30  23:59:32.892000  2019-07-01   \n",
       "2125366            7.950000  2019-06-30  23:59:33.699000  2019-07-01   \n",
       "2125367            5.000000  2019-06-30  23:59:47.405000  2019-07-01   \n",
       "2125368           15.100000  2019-06-30  23:59:51.598000  2019-07-01   \n",
       "2125369           21.166667  2019-06-30  23:59:54.367000  2019-07-01   \n",
       "\n",
       "                stoptime  start station id              start station name  \\\n",
       "0        00:05:31.760000              3602                  31 Ave & 34 St   \n",
       "1        00:13:55.147000              3054         Greene Ave & Throop Ave   \n",
       "2        00:06:26.779000               229                  Great Jones St   \n",
       "3        00:19:22.538000              3771         McKibbin St & Bogart St   \n",
       "4        00:17:42.558000               441                 E 52 St & 2 Ave   \n",
       "...                  ...               ...                             ...   \n",
       "2125365  00:03:25.631000              3113  Greenpoint Ave & Manhattan Ave   \n",
       "2125366  00:07:31.044000               445              E 10 St & Avenue A   \n",
       "2125367  00:04:48.185000              3307          West End Ave & W 94 St   \n",
       "2125368  00:14:58.321000               402              Broadway & E 22 St   \n",
       "2125369  00:21:05.275000              3788                  E 12 St & 4 Av   \n",
       "\n",
       "         start station latitude  start station longitude  end station id  \\\n",
       "0                     40.763154               -73.920827            3570   \n",
       "1                     40.689493               -73.942061            3781   \n",
       "2                     40.727434               -73.993790             326   \n",
       "3                     40.706237               -73.933871            3016   \n",
       "4                     40.756014               -73.967416            3159   \n",
       "...                         ...                      ...             ...   \n",
       "2125365               40.730260               -73.953940            3107   \n",
       "2125366               40.727408               -73.981420            3737   \n",
       "2125367               40.794165               -73.974124            3320   \n",
       "2125368               40.740343               -73.989551             400   \n",
       "2125369               40.732690               -73.989740             326   \n",
       "\n",
       "                     end station name  end station latitude  \\\n",
       "0                      35 Ave & 37 St             40.755733   \n",
       "1               Greene Av & Myrtle Av             40.698568   \n",
       "2                     E 11 St & 1 Ave             40.729538   \n",
       "3                   Kent Ave & N 7 St             40.720368   \n",
       "4                  W 67 St & Broadway             40.774925   \n",
       "...                               ...                   ...   \n",
       "2125365      Bedford Ave & Nassau Ave             40.723117   \n",
       "2125366       Stanton St & Norfolk St             40.720747   \n",
       "2125367  Central Park West & W 100 St             40.794067   \n",
       "2125368          Pitt St & Stanton St             40.719261   \n",
       "2125369               E 11 St & 1 Ave             40.729538   \n",
       "\n",
       "         end station longitude  bikeid    usertype  gender  approximate age  \\\n",
       "0                   -73.923661   20348  Subscriber    male               27   \n",
       "1                   -73.918877   34007  Subscriber  female               32   \n",
       "2                   -73.984267   20587  Subscriber  female               29   \n",
       "3                   -73.961651   33762  Subscriber    male               32   \n",
       "4                   -73.982666   31290  Subscriber    male               46   \n",
       "...                        ...     ...         ...     ...              ...   \n",
       "2125365             -73.952123   25779  Subscriber    male               47   \n",
       "2125366             -73.986274   39522  Subscriber  female               38   \n",
       "2125367             -73.962868   26730  Subscriber    male               38   \n",
       "2125368             -73.981780   38286  Subscriber    male               23   \n",
       "2125369             -73.984267   38742  Subscriber    male               52   \n",
       "\n",
       "        age group     RideID  distance (mi)  \n",
       "0           18-30  3602_3570       0.533976  \n",
       "1           31-45  3054_3781       1.367325  \n",
       "2           18-30    229_326       0.519569  \n",
       "3           31-45  3771_3016       1.752739  \n",
       "4           46-60   441_3159       1.531607  \n",
       "...           ...        ...            ...  \n",
       "2125365     46-60  3113_3107       0.502832  \n",
       "2125366     31-45   445_3737       0.525936  \n",
       "2125367     31-45  3307_3320       0.589006  \n",
       "2125368     18-30    402_400       1.512954  \n",
       "2125369     46-60   3788_326       0.360022  \n",
       "\n",
       "[1571743 rows x 20 columns]"
      ],
      "text/html": "<div>\n<style scoped>\n    .dataframe tbody tr th:only-of-type {\n        vertical-align: middle;\n    }\n\n    .dataframe tbody tr th {\n        vertical-align: top;\n    }\n\n    .dataframe thead th {\n        text-align: right;\n    }\n</style>\n<table border=\"1\" class=\"dataframe\">\n  <thead>\n    <tr style=\"text-align: right;\">\n      <th></th>\n      <th>tripduration (min)</th>\n      <th>startdate</th>\n      <th>starttime</th>\n      <th>stopdate</th>\n      <th>stoptime</th>\n      <th>start station id</th>\n      <th>start station name</th>\n      <th>start station latitude</th>\n      <th>start station longitude</th>\n      <th>end station id</th>\n      <th>end station name</th>\n      <th>end station latitude</th>\n      <th>end station longitude</th>\n      <th>bikeid</th>\n      <th>usertype</th>\n      <th>gender</th>\n      <th>approximate age</th>\n      <th>age group</th>\n      <th>RideID</th>\n      <th>distance (mi)</th>\n    </tr>\n  </thead>\n  <tbody>\n    <tr>\n      <th>0</th>\n      <td>5.500000</td>\n      <td>2019-06-01</td>\n      <td>00:00:01.500000</td>\n      <td>2019-06-01</td>\n      <td>00:05:31.760000</td>\n      <td>3602</td>\n      <td>31 Ave &amp; 34 St</td>\n      <td>40.763154</td>\n      <td>-73.920827</td>\n      <td>3570</td>\n      <td>35 Ave &amp; 37 St</td>\n      <td>40.755733</td>\n      <td>-73.923661</td>\n      <td>20348</td>\n      <td>Subscriber</td>\n      <td>male</td>\n      <td>27</td>\n      <td>18-30</td>\n      <td>3602_3570</td>\n      <td>0.533976</td>\n    </tr>\n    <tr>\n      <th>1</th>\n      <td>13.833333</td>\n      <td>2019-06-01</td>\n      <td>00:00:04.240000</td>\n      <td>2019-06-01</td>\n      <td>00:13:55.147000</td>\n      <td>3054</td>\n      <td>Greene Ave &amp; Throop Ave</td>\n      <td>40.689493</td>\n      <td>-73.942061</td>\n      <td>3781</td>\n      <td>Greene Av &amp; Myrtle Av</td>\n      <td>40.698568</td>\n      <td>-73.918877</td>\n      <td>34007</td>\n      <td>Subscriber</td>\n      <td>female</td>\n      <td>32</td>\n      <td>31-45</td>\n      <td>3054_3781</td>\n      <td>1.367325</td>\n    </tr>\n    <tr>\n      <th>2</th>\n      <td>6.333333</td>\n      <td>2019-06-01</td>\n      <td>00:00:06.019000</td>\n      <td>2019-06-01</td>\n      <td>00:06:26.779000</td>\n      <td>229</td>\n      <td>Great Jones St</td>\n      <td>40.727434</td>\n      <td>-73.993790</td>\n      <td>326</td>\n      <td>E 11 St &amp; 1 Ave</td>\n      <td>40.729538</td>\n      <td>-73.984267</td>\n      <td>20587</td>\n      <td>Subscriber</td>\n      <td>female</td>\n      <td>29</td>\n      <td>18-30</td>\n      <td>229_326</td>\n      <td>0.519569</td>\n    </tr>\n    <tr>\n      <th>3</th>\n      <td>19.250000</td>\n      <td>2019-06-01</td>\n      <td>00:00:06.776000</td>\n      <td>2019-06-01</td>\n      <td>00:19:22.538000</td>\n      <td>3771</td>\n      <td>McKibbin St &amp; Bogart St</td>\n      <td>40.706237</td>\n      <td>-73.933871</td>\n      <td>3016</td>\n      <td>Kent Ave &amp; N 7 St</td>\n      <td>40.720368</td>\n      <td>-73.961651</td>\n      <td>33762</td>\n      <td>Subscriber</td>\n      <td>male</td>\n      <td>32</td>\n      <td>31-45</td>\n      <td>3771_3016</td>\n      <td>1.752739</td>\n    </tr>\n    <tr>\n      <th>4</th>\n      <td>17.583333</td>\n      <td>2019-06-01</td>\n      <td>00:00:07.520000</td>\n      <td>2019-06-01</td>\n      <td>00:17:42.558000</td>\n      <td>441</td>\n      <td>E 52 St &amp; 2 Ave</td>\n      <td>40.756014</td>\n      <td>-73.967416</td>\n      <td>3159</td>\n      <td>W 67 St &amp; Broadway</td>\n      <td>40.774925</td>\n      <td>-73.982666</td>\n      <td>31290</td>\n      <td>Subscriber</td>\n      <td>male</td>\n      <td>46</td>\n      <td>46-60</td>\n      <td>441_3159</td>\n      <td>1.531607</td>\n    </tr>\n    <tr>\n      <th>...</th>\n      <td>...</td>\n      <td>...</td>\n      <td>...</td>\n      <td>...</td>\n      <td>...</td>\n      <td>...</td>\n      <td>...</td>\n      <td>...</td>\n      <td>...</td>\n      <td>...</td>\n      <td>...</td>\n      <td>...</td>\n      <td>...</td>\n      <td>...</td>\n      <td>...</td>\n      <td>...</td>\n      <td>...</td>\n      <td>...</td>\n      <td>...</td>\n      <td>...</td>\n    </tr>\n    <tr>\n      <th>2125365</th>\n      <td>3.866667</td>\n      <td>2019-06-30</td>\n      <td>23:59:32.892000</td>\n      <td>2019-07-01</td>\n      <td>00:03:25.631000</td>\n      <td>3113</td>\n      <td>Greenpoint Ave &amp; Manhattan Ave</td>\n      <td>40.730260</td>\n      <td>-73.953940</td>\n      <td>3107</td>\n      <td>Bedford Ave &amp; Nassau Ave</td>\n      <td>40.723117</td>\n      <td>-73.952123</td>\n      <td>25779</td>\n      <td>Subscriber</td>\n      <td>male</td>\n      <td>47</td>\n      <td>46-60</td>\n      <td>3113_3107</td>\n      <td>0.502832</td>\n    </tr>\n    <tr>\n      <th>2125366</th>\n      <td>7.950000</td>\n      <td>2019-06-30</td>\n      <td>23:59:33.699000</td>\n      <td>2019-07-01</td>\n      <td>00:07:31.044000</td>\n      <td>445</td>\n      <td>E 10 St &amp; Avenue A</td>\n      <td>40.727408</td>\n      <td>-73.981420</td>\n      <td>3737</td>\n      <td>Stanton St &amp; Norfolk St</td>\n      <td>40.720747</td>\n      <td>-73.986274</td>\n      <td>39522</td>\n      <td>Subscriber</td>\n      <td>female</td>\n      <td>38</td>\n      <td>31-45</td>\n      <td>445_3737</td>\n      <td>0.525936</td>\n    </tr>\n    <tr>\n      <th>2125367</th>\n      <td>5.000000</td>\n      <td>2019-06-30</td>\n      <td>23:59:47.405000</td>\n      <td>2019-07-01</td>\n      <td>00:04:48.185000</td>\n      <td>3307</td>\n      <td>West End Ave &amp; W 94 St</td>\n      <td>40.794165</td>\n      <td>-73.974124</td>\n      <td>3320</td>\n      <td>Central Park West &amp; W 100 St</td>\n      <td>40.794067</td>\n      <td>-73.962868</td>\n      <td>26730</td>\n      <td>Subscriber</td>\n      <td>male</td>\n      <td>38</td>\n      <td>31-45</td>\n      <td>3307_3320</td>\n      <td>0.589006</td>\n    </tr>\n    <tr>\n      <th>2125368</th>\n      <td>15.100000</td>\n      <td>2019-06-30</td>\n      <td>23:59:51.598000</td>\n      <td>2019-07-01</td>\n      <td>00:14:58.321000</td>\n      <td>402</td>\n      <td>Broadway &amp; E 22 St</td>\n      <td>40.740343</td>\n      <td>-73.989551</td>\n      <td>400</td>\n      <td>Pitt St &amp; Stanton St</td>\n      <td>40.719261</td>\n      <td>-73.981780</td>\n      <td>38286</td>\n      <td>Subscriber</td>\n      <td>male</td>\n      <td>23</td>\n      <td>18-30</td>\n      <td>402_400</td>\n      <td>1.512954</td>\n    </tr>\n    <tr>\n      <th>2125369</th>\n      <td>21.166667</td>\n      <td>2019-06-30</td>\n      <td>23:59:54.367000</td>\n      <td>2019-07-01</td>\n      <td>00:21:05.275000</td>\n      <td>3788</td>\n      <td>E 12 St &amp; 4 Av</td>\n      <td>40.732690</td>\n      <td>-73.989740</td>\n      <td>326</td>\n      <td>E 11 St &amp; 1 Ave</td>\n      <td>40.729538</td>\n      <td>-73.984267</td>\n      <td>38742</td>\n      <td>Subscriber</td>\n      <td>male</td>\n      <td>52</td>\n      <td>46-60</td>\n      <td>3788_326</td>\n      <td>0.360022</td>\n    </tr>\n  </tbody>\n</table>\n<p>1571743 rows × 20 columns</p>\n</div>"
     },
     "metadata": {},
     "execution_count": 22
    }
   ],
   "source": [
    "bike_19_df"
   ]
  },
  {
   "source": [
    "### Calculate the distance traveled on each ride for 2020"
   ],
   "cell_type": "markdown",
   "metadata": {}
  },
  {
   "cell_type": "code",
   "execution_count": 23,
   "metadata": {},
   "outputs": [],
   "source": [
    "# First, convert degrees to radians\n",
    "start_lat_20 = [radians(lat) for lat in bike_20_df['start station latitude']]\n",
    "start_lon_20 = [radians(lon) for lon in bike_20_df['start station longitude']]\n",
    "end_lat_20 = [radians(lat) for lat in bike_20_df['end station latitude']]\n",
    "end_lon_20 = [radians(lon) for lon in bike_20_df['end station longitude']]\n",
    "\n",
    "# Next, convert these lists into series\n",
    "start_lat_20 = pd.Series(start_lat_20)\n",
    "start_lon_20 = pd.Series(start_lon_20)\n",
    "end_lat_20 = pd.Series(end_lat_20)\n",
    "end_lon_20 = pd.Series(end_lon_20)\n",
    "\n",
    "# Calculate the difference between each pair of lat and lon\n",
    "dist_lat_20 = end_lat_20 - start_lat_20\n",
    "dist_lon_20 = end_lon_20 - start_lon_20"
   ]
  },
  {
   "cell_type": "code",
   "execution_count": 24,
   "metadata": {},
   "outputs": [],
   "source": [
    "# approximate radius of earth in km\n",
    "R = 6373.0\n",
    "\n",
    "# create an empty list to store each trips distance\n",
    "distances_20 = []\n",
    "\n",
    "# loop through each pair of lat and lon and append the distance to our list\n",
    "for i in range(0, len(start_lat_20)):\n",
    "    a = sin(dist_lat_20[i] / 2)**2 + cos(start_lat_20[i]) * cos(end_lat_20[i]) * sin(dist_lon_20[i] / 2)**2\n",
    "    c = 2 * atan2(sqrt(a), sqrt(1 - a))\n",
    "\n",
    "    # Calculate distance and convert km to miles\n",
    "    miles = (R * c) * .6214\n",
    "\n",
    "    # Append the miles traveled into our distances list\n",
    "    distances_20.append(miles)"
   ]
  },
  {
   "cell_type": "code",
   "execution_count": 25,
   "metadata": {},
   "outputs": [],
   "source": [
    "# Create new column to display the calculated distance in miles\n",
    "bike_20_df['distance (mi)'] = distances_20"
   ]
  },
  {
   "cell_type": "code",
   "execution_count": 26,
   "metadata": {},
   "outputs": [
    {
     "output_type": "execute_result",
     "data": {
      "text/plain": [
       "         tripduration (min)   startdate        starttime    stopdate  \\\n",
       "2                 16.950000  2020-06-01  00:00:09.614000  2020-06-01   \n",
       "4                 23.950000  2020-06-01  00:00:21.255000  2020-06-01   \n",
       "5                  5.916667  2020-06-01  00:00:22.650000  2020-06-01   \n",
       "12                 8.816667  2020-06-01  00:00:58.910000  2020-06-01   \n",
       "13                11.583333  2020-06-01  00:00:59.957000  2020-06-01   \n",
       "...                     ...         ...              ...         ...   \n",
       "1882267            6.616667  2020-06-30  23:59:39.420000  2020-07-01   \n",
       "1882268           11.416667  2020-06-30  23:59:41.116000  2020-07-01   \n",
       "1882270            7.316667  2020-06-30  23:59:47.477000  2020-07-01   \n",
       "1882271           14.833333  2020-06-30  23:59:53.395000  2020-07-01   \n",
       "1882272            7.216667  2020-06-30  23:59:53.901000  2020-07-01   \n",
       "\n",
       "                stoptime  start station id         start station name  \\\n",
       "2        00:17:06.833000               389        Broadway & Berry St   \n",
       "4        00:24:18.965000               367    E 53 St & Lexington Ave   \n",
       "5        00:06:18.525000               248      Laight St & Hudson St   \n",
       "12       00:09:48.827000              3610        Vernon Blvd & 30 Rd   \n",
       "13       00:12:35.700000              3708            W 13 St & 5 Ave   \n",
       "...                  ...               ...                        ...   \n",
       "1882267  00:06:17.044000              3263   Cooper Square & Astor Pl   \n",
       "1882268  00:11:06.779000               503         E 20 St & Park Ave   \n",
       "1882270  00:07:06.559000              3699            W 50 St & 9 Ave   \n",
       "1882271  00:14:43.427000              3852  Stewart Ave & Johnson Ave   \n",
       "1882272  00:07:07.095000               324    DeKalb Ave & Hudson Ave   \n",
       "\n",
       "         start station latitude  start station longitude  end station id  \\\n",
       "2                     40.710446               -73.965251            3562   \n",
       "4                     40.758281               -73.970694             497   \n",
       "5                     40.721854               -74.007718             247   \n",
       "12                    40.770845               -73.934171            3523   \n",
       "13                    40.735445               -73.994310            3740   \n",
       "...                         ...                      ...             ...   \n",
       "1882267               40.729515               -73.990753             223   \n",
       "1882268               40.738274               -73.987520            3746   \n",
       "1882270               40.763605               -73.989180             523   \n",
       "1882271               40.708690               -73.925870            3054   \n",
       "1882272               40.689888               -73.981013             261   \n",
       "\n",
       "                   end station name  end station latitude  \\\n",
       "2        Classon Ave & St Marks Ave             40.676520   \n",
       "4                E 17 St & Broadway             40.737050   \n",
       "5            Perry St & Bleecker St             40.735354   \n",
       "12                   24 Ave & 29 St             40.772900   \n",
       "13        W Broadway & W Houston St             40.726378   \n",
       "...                             ...                   ...   \n",
       "1882267             W 13 St & 7 Ave             40.737815   \n",
       "1882268           6 Ave & Broome St             40.724308   \n",
       "1882270             W 38 St & 8 Ave             40.754666   \n",
       "1882271     Greene Ave & Throop Ave             40.689493   \n",
       "1882272        Johnson St & Gold St             40.694749   \n",
       "\n",
       "         end station longitude  bikeid    usertype  gender  approximate age  \\\n",
       "2                   -73.959608   37512    Customer  female               32   \n",
       "4                   -73.990093   21093    Customer  female               23   \n",
       "5                   -74.004831   39594  Subscriber    male               30   \n",
       "12                  -73.916142   40937  Subscriber  female               36   \n",
       "13                  -74.000472   33199  Subscriber    male               31   \n",
       "...                        ...     ...         ...     ...              ...   \n",
       "1882267             -73.999947   32938  Subscriber    male               35   \n",
       "1882268             -74.004730   21056    Customer  female               27   \n",
       "1882270             -73.991382   43742    Customer    male               34   \n",
       "1882271             -73.942061   15787  Subscriber    male               26   \n",
       "1882272             -73.983625   38767    Customer    male               30   \n",
       "\n",
       "        age group     RideID  distance (mi)  \n",
       "2           31-45   389_3562       2.363457  \n",
       "4           18-30    367_497       1.784706  \n",
       "5           18-30    248_247       0.945281  \n",
       "12          31-45  3610_3523       0.954345  \n",
       "13          31-45  3708_3740       0.704919  \n",
       "...           ...        ...            ...  \n",
       "1882267     31-45   3263_223       0.748991  \n",
       "1882268     18-30   503_3746       1.320752  \n",
       "1882270     31-45   3699_523       0.628495  \n",
       "1882271     18-30  3852_3054       1.574918  \n",
       "1882272     18-30    324_261       0.362780  \n",
       "\n",
       "[1051233 rows x 20 columns]"
      ],
      "text/html": "<div>\n<style scoped>\n    .dataframe tbody tr th:only-of-type {\n        vertical-align: middle;\n    }\n\n    .dataframe tbody tr th {\n        vertical-align: top;\n    }\n\n    .dataframe thead th {\n        text-align: right;\n    }\n</style>\n<table border=\"1\" class=\"dataframe\">\n  <thead>\n    <tr style=\"text-align: right;\">\n      <th></th>\n      <th>tripduration (min)</th>\n      <th>startdate</th>\n      <th>starttime</th>\n      <th>stopdate</th>\n      <th>stoptime</th>\n      <th>start station id</th>\n      <th>start station name</th>\n      <th>start station latitude</th>\n      <th>start station longitude</th>\n      <th>end station id</th>\n      <th>end station name</th>\n      <th>end station latitude</th>\n      <th>end station longitude</th>\n      <th>bikeid</th>\n      <th>usertype</th>\n      <th>gender</th>\n      <th>approximate age</th>\n      <th>age group</th>\n      <th>RideID</th>\n      <th>distance (mi)</th>\n    </tr>\n  </thead>\n  <tbody>\n    <tr>\n      <th>2</th>\n      <td>16.950000</td>\n      <td>2020-06-01</td>\n      <td>00:00:09.614000</td>\n      <td>2020-06-01</td>\n      <td>00:17:06.833000</td>\n      <td>389</td>\n      <td>Broadway &amp; Berry St</td>\n      <td>40.710446</td>\n      <td>-73.965251</td>\n      <td>3562</td>\n      <td>Classon Ave &amp; St Marks Ave</td>\n      <td>40.676520</td>\n      <td>-73.959608</td>\n      <td>37512</td>\n      <td>Customer</td>\n      <td>female</td>\n      <td>32</td>\n      <td>31-45</td>\n      <td>389_3562</td>\n      <td>2.363457</td>\n    </tr>\n    <tr>\n      <th>4</th>\n      <td>23.950000</td>\n      <td>2020-06-01</td>\n      <td>00:00:21.255000</td>\n      <td>2020-06-01</td>\n      <td>00:24:18.965000</td>\n      <td>367</td>\n      <td>E 53 St &amp; Lexington Ave</td>\n      <td>40.758281</td>\n      <td>-73.970694</td>\n      <td>497</td>\n      <td>E 17 St &amp; Broadway</td>\n      <td>40.737050</td>\n      <td>-73.990093</td>\n      <td>21093</td>\n      <td>Customer</td>\n      <td>female</td>\n      <td>23</td>\n      <td>18-30</td>\n      <td>367_497</td>\n      <td>1.784706</td>\n    </tr>\n    <tr>\n      <th>5</th>\n      <td>5.916667</td>\n      <td>2020-06-01</td>\n      <td>00:00:22.650000</td>\n      <td>2020-06-01</td>\n      <td>00:06:18.525000</td>\n      <td>248</td>\n      <td>Laight St &amp; Hudson St</td>\n      <td>40.721854</td>\n      <td>-74.007718</td>\n      <td>247</td>\n      <td>Perry St &amp; Bleecker St</td>\n      <td>40.735354</td>\n      <td>-74.004831</td>\n      <td>39594</td>\n      <td>Subscriber</td>\n      <td>male</td>\n      <td>30</td>\n      <td>18-30</td>\n      <td>248_247</td>\n      <td>0.945281</td>\n    </tr>\n    <tr>\n      <th>12</th>\n      <td>8.816667</td>\n      <td>2020-06-01</td>\n      <td>00:00:58.910000</td>\n      <td>2020-06-01</td>\n      <td>00:09:48.827000</td>\n      <td>3610</td>\n      <td>Vernon Blvd &amp; 30 Rd</td>\n      <td>40.770845</td>\n      <td>-73.934171</td>\n      <td>3523</td>\n      <td>24 Ave &amp; 29 St</td>\n      <td>40.772900</td>\n      <td>-73.916142</td>\n      <td>40937</td>\n      <td>Subscriber</td>\n      <td>female</td>\n      <td>36</td>\n      <td>31-45</td>\n      <td>3610_3523</td>\n      <td>0.954345</td>\n    </tr>\n    <tr>\n      <th>13</th>\n      <td>11.583333</td>\n      <td>2020-06-01</td>\n      <td>00:00:59.957000</td>\n      <td>2020-06-01</td>\n      <td>00:12:35.700000</td>\n      <td>3708</td>\n      <td>W 13 St &amp; 5 Ave</td>\n      <td>40.735445</td>\n      <td>-73.994310</td>\n      <td>3740</td>\n      <td>W Broadway &amp; W Houston St</td>\n      <td>40.726378</td>\n      <td>-74.000472</td>\n      <td>33199</td>\n      <td>Subscriber</td>\n      <td>male</td>\n      <td>31</td>\n      <td>31-45</td>\n      <td>3708_3740</td>\n      <td>0.704919</td>\n    </tr>\n    <tr>\n      <th>...</th>\n      <td>...</td>\n      <td>...</td>\n      <td>...</td>\n      <td>...</td>\n      <td>...</td>\n      <td>...</td>\n      <td>...</td>\n      <td>...</td>\n      <td>...</td>\n      <td>...</td>\n      <td>...</td>\n      <td>...</td>\n      <td>...</td>\n      <td>...</td>\n      <td>...</td>\n      <td>...</td>\n      <td>...</td>\n      <td>...</td>\n      <td>...</td>\n      <td>...</td>\n    </tr>\n    <tr>\n      <th>1882267</th>\n      <td>6.616667</td>\n      <td>2020-06-30</td>\n      <td>23:59:39.420000</td>\n      <td>2020-07-01</td>\n      <td>00:06:17.044000</td>\n      <td>3263</td>\n      <td>Cooper Square &amp; Astor Pl</td>\n      <td>40.729515</td>\n      <td>-73.990753</td>\n      <td>223</td>\n      <td>W 13 St &amp; 7 Ave</td>\n      <td>40.737815</td>\n      <td>-73.999947</td>\n      <td>32938</td>\n      <td>Subscriber</td>\n      <td>male</td>\n      <td>35</td>\n      <td>31-45</td>\n      <td>3263_223</td>\n      <td>0.748991</td>\n    </tr>\n    <tr>\n      <th>1882268</th>\n      <td>11.416667</td>\n      <td>2020-06-30</td>\n      <td>23:59:41.116000</td>\n      <td>2020-07-01</td>\n      <td>00:11:06.779000</td>\n      <td>503</td>\n      <td>E 20 St &amp; Park Ave</td>\n      <td>40.738274</td>\n      <td>-73.987520</td>\n      <td>3746</td>\n      <td>6 Ave &amp; Broome St</td>\n      <td>40.724308</td>\n      <td>-74.004730</td>\n      <td>21056</td>\n      <td>Customer</td>\n      <td>female</td>\n      <td>27</td>\n      <td>18-30</td>\n      <td>503_3746</td>\n      <td>1.320752</td>\n    </tr>\n    <tr>\n      <th>1882270</th>\n      <td>7.316667</td>\n      <td>2020-06-30</td>\n      <td>23:59:47.477000</td>\n      <td>2020-07-01</td>\n      <td>00:07:06.559000</td>\n      <td>3699</td>\n      <td>W 50 St &amp; 9 Ave</td>\n      <td>40.763605</td>\n      <td>-73.989180</td>\n      <td>523</td>\n      <td>W 38 St &amp; 8 Ave</td>\n      <td>40.754666</td>\n      <td>-73.991382</td>\n      <td>43742</td>\n      <td>Customer</td>\n      <td>male</td>\n      <td>34</td>\n      <td>31-45</td>\n      <td>3699_523</td>\n      <td>0.628495</td>\n    </tr>\n    <tr>\n      <th>1882271</th>\n      <td>14.833333</td>\n      <td>2020-06-30</td>\n      <td>23:59:53.395000</td>\n      <td>2020-07-01</td>\n      <td>00:14:43.427000</td>\n      <td>3852</td>\n      <td>Stewart Ave &amp; Johnson Ave</td>\n      <td>40.708690</td>\n      <td>-73.925870</td>\n      <td>3054</td>\n      <td>Greene Ave &amp; Throop Ave</td>\n      <td>40.689493</td>\n      <td>-73.942061</td>\n      <td>15787</td>\n      <td>Subscriber</td>\n      <td>male</td>\n      <td>26</td>\n      <td>18-30</td>\n      <td>3852_3054</td>\n      <td>1.574918</td>\n    </tr>\n    <tr>\n      <th>1882272</th>\n      <td>7.216667</td>\n      <td>2020-06-30</td>\n      <td>23:59:53.901000</td>\n      <td>2020-07-01</td>\n      <td>00:07:07.095000</td>\n      <td>324</td>\n      <td>DeKalb Ave &amp; Hudson Ave</td>\n      <td>40.689888</td>\n      <td>-73.981013</td>\n      <td>261</td>\n      <td>Johnson St &amp; Gold St</td>\n      <td>40.694749</td>\n      <td>-73.983625</td>\n      <td>38767</td>\n      <td>Customer</td>\n      <td>male</td>\n      <td>30</td>\n      <td>18-30</td>\n      <td>324_261</td>\n      <td>0.362780</td>\n    </tr>\n  </tbody>\n</table>\n<p>1051233 rows × 20 columns</p>\n</div>"
     },
     "metadata": {},
     "execution_count": 26
    }
   ],
   "source": [
    "bike_20_df"
   ]
  },
  {
   "cell_type": "code",
   "execution_count": null,
   "metadata": {},
   "outputs": [],
   "source": []
  }
 ]
}